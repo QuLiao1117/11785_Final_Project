{
 "cells": [
  {
   "cell_type": "code",
   "execution_count": 15,
   "metadata": {},
   "outputs": [],
   "source": [
    "import os\n",
    "import numpy as np\n",
    "import pandas as pd\n",
    "from sklearn.metrics import mean_squared_error"
   ]
  },
  {
   "cell_type": "code",
   "execution_count": 16,
   "metadata": {},
   "outputs": [],
   "source": [
    "def t_test(data, type):\n",
    "    data = np.array(data)\n",
    "    t_value = [6.314, 2.92, 2.353, 2.132, 2.015,1.943, 1.895, 1.860, 1.833, 1.812]\n",
    "    N = len(data)\n",
    "    CI_u = data.mean() + t_value[N-2]*data.std()/np.sqrt(N)\n",
    "    # print(type+\" 1-CI_u: \", 1 - CI_u)\n",
    "    return 1 - CI_u"
   ]
  },
  {
   "cell_type": "code",
   "execution_count": 17,
   "metadata": {},
   "outputs": [
    {
     "name": "stdout",
     "output_type": "stream",
     "text": [
      "['F_phoneme17_AM89', 'F_phoneme31_AM89']\n"
     ]
    },
    {
     "data": {
      "text/html": [
       "<div>\n",
       "<style scoped>\n",
       "    .dataframe tbody tr th:only-of-type {\n",
       "        vertical-align: middle;\n",
       "    }\n",
       "\n",
       "    .dataframe tbody tr th {\n",
       "        vertical-align: top;\n",
       "    }\n",
       "\n",
       "    .dataframe thead th {\n",
       "        text-align: right;\n",
       "    }\n",
       "</style>\n",
       "<table border=\"1\" class=\"dataframe\">\n",
       "  <thead>\n",
       "    <tr style=\"text-align: right;\">\n",
       "      <th></th>\n",
       "      <th>pair</th>\n",
       "      <th>100</th>\n",
       "      <th>75</th>\n",
       "      <th>50</th>\n",
       "    </tr>\n",
       "  </thead>\n",
       "  <tbody>\n",
       "    <tr>\n",
       "      <th>0</th>\n",
       "      <td>F_phoneme17_AM89</td>\n",
       "      <td>0.133190</td>\n",
       "      <td>0.243726</td>\n",
       "      <td>0.593021</td>\n",
       "    </tr>\n",
       "    <tr>\n",
       "      <th>1</th>\n",
       "      <td>F_phoneme31_AM89</td>\n",
       "      <td>-2.217705</td>\n",
       "      <td>-0.341401</td>\n",
       "      <td>-0.220949</td>\n",
       "    </tr>\n",
       "  </tbody>\n",
       "</table>\n",
       "</div>"
      ],
      "text/plain": [
       "               pair       100        75        50\n",
       "0  F_phoneme17_AM89  0.133190  0.243726  0.593021\n",
       "1  F_phoneme31_AM89 -2.217705 -0.341401 -0.220949"
      ]
     },
     "execution_count": 17,
     "metadata": {},
     "output_type": "execute_result"
    }
   ],
   "source": [
    "# change file path here\n",
    "path = './estimations/'\n",
    "file_list = os.listdir(path)\n",
    "print(file_list)\n",
    "\n",
    "df = pd.DataFrame(columns=('pair', '100', '75', '50'))\n",
    "\n",
    "for file in file_list:\n",
    "    mean = np.loadtxt(path+file+'/'+file+'.txt', delimiter=',')[:,2]\n",
    "  \n",
    "    result = []\n",
    "    for i in range(len(os.listdir(path+file))-1):\n",
    "        E = pd.read_csv(path+file+'/' + file +'_times'+str(i)+'.csv')\n",
    "\n",
    "        # print(file +'_times'+str(i))\n",
    "\n",
    "        m = mean[i] \n",
    "        epsilon = mean_squared_error(E[' prediction'], E[' label'])\n",
    "        # print(\"MSE: \", epsilon)\n",
    "\n",
    "        C = E.copy()\n",
    "        C[' prediction'] = m    \n",
    "        epsilon_C = mean_squared_error(C[' prediction'], C[' label'])\n",
    "        # print(\"MSE: \", epsilon_C)\n",
    "        result.append(epsilon/epsilon_C)\n",
    "\n",
    "    t_100 = t_test(result, \"100%\")\n",
    "    t_75 = t_test(sorted(result)[:int(0.75 * len(result))], \"75%\")\n",
    "    t_50 = t_test(sorted(result)[:int(0.5 * len(result))], \"50%\")\n",
    "    s = pd.Series({'pair': file, '100': t_100, '75': t_75, '50': t_50})\n",
    "    df = df.append(s, ignore_index=True)\n",
    "df"
   ]
  },
  {
   "cell_type": "code",
   "execution_count": 18,
   "metadata": {},
   "outputs": [],
   "source": [
    "# Save result\n",
    "df.to_csv(\"t_test_result.csv\", index=False)"
   ]
  }
 ],
 "metadata": {
  "kernelspec": {
   "display_name": "Python 3.7.4",
   "language": "python",
   "name": "python3"
  },
  "language_info": {
   "codemirror_mode": {
    "name": "ipython",
    "version": 3
   },
   "file_extension": ".py",
   "mimetype": "text/x-python",
   "name": "python",
   "nbconvert_exporter": "python",
   "pygments_lexer": "ipython3",
   "version": "3.7.4"
  },
  "orig_nbformat": 4,
  "vscode": {
   "interpreter": {
    "hash": "88279d2366fe020547cde40dd65aa0e3aa662a6ec1f3ca12d88834876c85e1a6"
   }
  }
 },
 "nbformat": 4,
 "nbformat_minor": 2
}
