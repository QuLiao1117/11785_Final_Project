{
 "cells": [
  {
   "cell_type": "code",
   "execution_count": 2,
   "id": "e3103d91-c6bf-481b-81df-ab64cddd75a6",
   "metadata": {
    "pycharm": {
     "is_executing": true,
     "name": "#%%\n"
    }
   },
   "outputs": [],
   "source": [
    "import pandas as pd\n",
    "import numpy as np\n",
    "import math"
   ]
  },
  {
   "cell_type": "markdown",
   "id": "13a22493-46bd-46a0-8c1a-081fbe4b787e",
   "metadata": {
    "pycharm": {
     "name": "#%% md\n"
    },
    "tags": []
   },
   "source": [
    "## 1. Check qls.csv"
   ]
  },
  {
   "cell_type": "code",
   "execution_count": 3,
   "id": "0e8682af-3ead-4547-9ebd-87562a7363ab",
   "metadata": {
    "pycharm": {
     "name": "#%%\n"
    }
   },
   "outputs": [
    {
     "data": {
      "text/html": [
       "<div>\n",
       "<style scoped>\n",
       "    .dataframe tbody tr th:only-of-type {\n",
       "        vertical-align: middle;\n",
       "    }\n",
       "\n",
       "    .dataframe tbody tr th {\n",
       "        vertical-align: top;\n",
       "    }\n",
       "\n",
       "    .dataframe thead th {\n",
       "        text-align: right;\n",
       "    }\n",
       "</style>\n",
       "<table border=\"1\" class=\"dataframe\">\n",
       "  <thead>\n",
       "    <tr style=\"text-align: right;\">\n",
       "      <th></th>\n",
       "      <th>ID</th>\n",
       "      <th>V1</th>\n",
       "      <th>V2</th>\n",
       "      <th>V3</th>\n",
       "      <th>V4</th>\n",
       "      <th>V5</th>\n",
       "      <th>V6</th>\n",
       "      <th>V7</th>\n",
       "      <th>V8</th>\n",
       "      <th>V9</th>\n",
       "      <th>...</th>\n",
       "      <th>V20361</th>\n",
       "      <th>V20362</th>\n",
       "      <th>V20363</th>\n",
       "      <th>V20364</th>\n",
       "      <th>V20365</th>\n",
       "      <th>V20366</th>\n",
       "      <th>V20367</th>\n",
       "      <th>V20368</th>\n",
       "      <th>V20369</th>\n",
       "      <th>V20370</th>\n",
       "    </tr>\n",
       "  </thead>\n",
       "  <tbody>\n",
       "    <tr>\n",
       "      <th>0</th>\n",
       "      <td>140012</td>\n",
       "      <td>1.142104</td>\n",
       "      <td>0.302941</td>\n",
       "      <td>-0.710802</td>\n",
       "      <td>1.142799</td>\n",
       "      <td>0.271451</td>\n",
       "      <td>-0.716142</td>\n",
       "      <td>1.140874</td>\n",
       "      <td>0.240170</td>\n",
       "      <td>-0.719405</td>\n",
       "      <td>...</td>\n",
       "      <td>-0.735470</td>\n",
       "      <td>-1.137672</td>\n",
       "      <td>0.145935</td>\n",
       "      <td>-0.730931</td>\n",
       "      <td>-1.141756</td>\n",
       "      <td>0.175892</td>\n",
       "      <td>-0.724656</td>\n",
       "      <td>-1.144403</td>\n",
       "      <td>0.206969</td>\n",
       "      <td>-0.720106</td>\n",
       "    </tr>\n",
       "    <tr>\n",
       "      <th>1</th>\n",
       "      <td>140017</td>\n",
       "      <td>1.149520</td>\n",
       "      <td>0.300287</td>\n",
       "      <td>-0.684552</td>\n",
       "      <td>1.148626</td>\n",
       "      <td>0.268567</td>\n",
       "      <td>-0.690915</td>\n",
       "      <td>1.144041</td>\n",
       "      <td>0.237009</td>\n",
       "      <td>-0.695634</td>\n",
       "      <td>...</td>\n",
       "      <td>-0.709256</td>\n",
       "      <td>-1.128049</td>\n",
       "      <td>0.145643</td>\n",
       "      <td>-0.704599</td>\n",
       "      <td>-1.134815</td>\n",
       "      <td>0.176807</td>\n",
       "      <td>-0.698365</td>\n",
       "      <td>-1.139156</td>\n",
       "      <td>0.208658</td>\n",
       "      <td>-0.693825</td>\n",
       "    </tr>\n",
       "    <tr>\n",
       "      <th>2</th>\n",
       "      <td>140018</td>\n",
       "      <td>1.168593</td>\n",
       "      <td>0.277356</td>\n",
       "      <td>-0.688271</td>\n",
       "      <td>1.170581</td>\n",
       "      <td>0.246254</td>\n",
       "      <td>-0.692626</td>\n",
       "      <td>1.170916</td>\n",
       "      <td>0.215361</td>\n",
       "      <td>-0.694578</td>\n",
       "      <td>...</td>\n",
       "      <td>-0.700240</td>\n",
       "      <td>-1.167515</td>\n",
       "      <td>0.128537</td>\n",
       "      <td>-0.697338</td>\n",
       "      <td>-1.169538</td>\n",
       "      <td>0.158299</td>\n",
       "      <td>-0.693222</td>\n",
       "      <td>-1.170934</td>\n",
       "      <td>0.189161</td>\n",
       "      <td>-0.690173</td>\n",
       "    </tr>\n",
       "    <tr>\n",
       "      <th>3</th>\n",
       "      <td>140019</td>\n",
       "      <td>1.093736</td>\n",
       "      <td>0.279753</td>\n",
       "      <td>-0.715639</td>\n",
       "      <td>1.095212</td>\n",
       "      <td>0.248028</td>\n",
       "      <td>-0.721778</td>\n",
       "      <td>1.094825</td>\n",
       "      <td>0.215972</td>\n",
       "      <td>-0.725795</td>\n",
       "      <td>...</td>\n",
       "      <td>-0.734093</td>\n",
       "      <td>-1.088197</td>\n",
       "      <td>0.133849</td>\n",
       "      <td>-0.730142</td>\n",
       "      <td>-1.090463</td>\n",
       "      <td>0.164519</td>\n",
       "      <td>-0.725203</td>\n",
       "      <td>-1.092341</td>\n",
       "      <td>0.195576</td>\n",
       "      <td>-0.721081</td>\n",
       "    </tr>\n",
       "    <tr>\n",
       "      <th>4</th>\n",
       "      <td>140020</td>\n",
       "      <td>1.204328</td>\n",
       "      <td>0.298106</td>\n",
       "      <td>-0.654091</td>\n",
       "      <td>1.205471</td>\n",
       "      <td>0.267064</td>\n",
       "      <td>-0.659410</td>\n",
       "      <td>1.204657</td>\n",
       "      <td>0.235932</td>\n",
       "      <td>-0.662561</td>\n",
       "      <td>...</td>\n",
       "      <td>-0.670984</td>\n",
       "      <td>-1.197001</td>\n",
       "      <td>0.144216</td>\n",
       "      <td>-0.666816</td>\n",
       "      <td>-1.199955</td>\n",
       "      <td>0.174402</td>\n",
       "      <td>-0.661598</td>\n",
       "      <td>-1.202177</td>\n",
       "      <td>0.205162</td>\n",
       "      <td>-0.657615</td>\n",
       "    </tr>\n",
       "    <tr>\n",
       "      <th>...</th>\n",
       "      <td>...</td>\n",
       "      <td>...</td>\n",
       "      <td>...</td>\n",
       "      <td>...</td>\n",
       "      <td>...</td>\n",
       "      <td>...</td>\n",
       "      <td>...</td>\n",
       "      <td>...</td>\n",
       "      <td>...</td>\n",
       "      <td>...</td>\n",
       "      <td>...</td>\n",
       "      <td>...</td>\n",
       "      <td>...</td>\n",
       "      <td>...</td>\n",
       "      <td>...</td>\n",
       "      <td>...</td>\n",
       "      <td>...</td>\n",
       "      <td>...</td>\n",
       "      <td>...</td>\n",
       "      <td>...</td>\n",
       "      <td>...</td>\n",
       "    </tr>\n",
       "    <tr>\n",
       "      <th>1073</th>\n",
       "      <td>143771</td>\n",
       "      <td>1.186773</td>\n",
       "      <td>0.284742</td>\n",
       "      <td>-0.665635</td>\n",
       "      <td>1.188940</td>\n",
       "      <td>0.253130</td>\n",
       "      <td>-0.670528</td>\n",
       "      <td>1.188923</td>\n",
       "      <td>0.221499</td>\n",
       "      <td>-0.673963</td>\n",
       "      <td>...</td>\n",
       "      <td>-0.691106</td>\n",
       "      <td>-1.186213</td>\n",
       "      <td>0.131858</td>\n",
       "      <td>-0.686316</td>\n",
       "      <td>-1.190137</td>\n",
       "      <td>0.162746</td>\n",
       "      <td>-0.680038</td>\n",
       "      <td>-1.192317</td>\n",
       "      <td>0.194252</td>\n",
       "      <td>-0.676025</td>\n",
       "    </tr>\n",
       "    <tr>\n",
       "      <th>1074</th>\n",
       "      <td>143772</td>\n",
       "      <td>1.141765</td>\n",
       "      <td>0.284188</td>\n",
       "      <td>-0.667118</td>\n",
       "      <td>1.141683</td>\n",
       "      <td>0.252735</td>\n",
       "      <td>-0.672775</td>\n",
       "      <td>1.139000</td>\n",
       "      <td>0.220820</td>\n",
       "      <td>-0.676174</td>\n",
       "      <td>...</td>\n",
       "      <td>-0.684951</td>\n",
       "      <td>-1.129100</td>\n",
       "      <td>0.131657</td>\n",
       "      <td>-0.681118</td>\n",
       "      <td>-1.132830</td>\n",
       "      <td>0.162250</td>\n",
       "      <td>-0.676173</td>\n",
       "      <td>-1.135421</td>\n",
       "      <td>0.193329</td>\n",
       "      <td>-0.672207</td>\n",
       "    </tr>\n",
       "    <tr>\n",
       "      <th>1075</th>\n",
       "      <td>143773</td>\n",
       "      <td>1.185780</td>\n",
       "      <td>0.271971</td>\n",
       "      <td>-0.629181</td>\n",
       "      <td>1.188293</td>\n",
       "      <td>0.240712</td>\n",
       "      <td>-0.635866</td>\n",
       "      <td>1.190887</td>\n",
       "      <td>0.208437</td>\n",
       "      <td>-0.640092</td>\n",
       "      <td>...</td>\n",
       "      <td>-0.649076</td>\n",
       "      <td>-1.192142</td>\n",
       "      <td>0.108672</td>\n",
       "      <td>-0.645450</td>\n",
       "      <td>-1.189774</td>\n",
       "      <td>0.140396</td>\n",
       "      <td>-0.640465</td>\n",
       "      <td>-1.189483</td>\n",
       "      <td>0.171503</td>\n",
       "      <td>-0.635856</td>\n",
       "    </tr>\n",
       "    <tr>\n",
       "      <th>1076</th>\n",
       "      <td>143774</td>\n",
       "      <td>1.194996</td>\n",
       "      <td>0.282105</td>\n",
       "      <td>-0.638625</td>\n",
       "      <td>1.194881</td>\n",
       "      <td>0.250626</td>\n",
       "      <td>-0.643812</td>\n",
       "      <td>1.192110</td>\n",
       "      <td>0.218945</td>\n",
       "      <td>-0.647304</td>\n",
       "      <td>...</td>\n",
       "      <td>-0.662508</td>\n",
       "      <td>-1.185380</td>\n",
       "      <td>0.129357</td>\n",
       "      <td>-0.658562</td>\n",
       "      <td>-1.189708</td>\n",
       "      <td>0.159697</td>\n",
       "      <td>-0.653072</td>\n",
       "      <td>-1.192598</td>\n",
       "      <td>0.190586</td>\n",
       "      <td>-0.649308</td>\n",
       "    </tr>\n",
       "    <tr>\n",
       "      <th>1077</th>\n",
       "      <td>143775</td>\n",
       "      <td>1.227406</td>\n",
       "      <td>0.284488</td>\n",
       "      <td>-0.671805</td>\n",
       "      <td>1.227768</td>\n",
       "      <td>0.252590</td>\n",
       "      <td>-0.677953</td>\n",
       "      <td>1.226260</td>\n",
       "      <td>0.219940</td>\n",
       "      <td>-0.681828</td>\n",
       "      <td>...</td>\n",
       "      <td>-0.689045</td>\n",
       "      <td>-1.217487</td>\n",
       "      <td>0.126365</td>\n",
       "      <td>-0.685735</td>\n",
       "      <td>-1.219491</td>\n",
       "      <td>0.158065</td>\n",
       "      <td>-0.681150</td>\n",
       "      <td>-1.221615</td>\n",
       "      <td>0.189674</td>\n",
       "      <td>-0.677058</td>\n",
       "    </tr>\n",
       "  </tbody>\n",
       "</table>\n",
       "<p>1078 rows × 20371 columns</p>\n",
       "</div>"
      ],
      "text/plain": [
       "          ID        V1        V2        V3        V4        V5        V6  \\\n",
       "0     140012  1.142104  0.302941 -0.710802  1.142799  0.271451 -0.716142   \n",
       "1     140017  1.149520  0.300287 -0.684552  1.148626  0.268567 -0.690915   \n",
       "2     140018  1.168593  0.277356 -0.688271  1.170581  0.246254 -0.692626   \n",
       "3     140019  1.093736  0.279753 -0.715639  1.095212  0.248028 -0.721778   \n",
       "4     140020  1.204328  0.298106 -0.654091  1.205471  0.267064 -0.659410   \n",
       "...      ...       ...       ...       ...       ...       ...       ...   \n",
       "1073  143771  1.186773  0.284742 -0.665635  1.188940  0.253130 -0.670528   \n",
       "1074  143772  1.141765  0.284188 -0.667118  1.141683  0.252735 -0.672775   \n",
       "1075  143773  1.185780  0.271971 -0.629181  1.188293  0.240712 -0.635866   \n",
       "1076  143774  1.194996  0.282105 -0.638625  1.194881  0.250626 -0.643812   \n",
       "1077  143775  1.227406  0.284488 -0.671805  1.227768  0.252590 -0.677953   \n",
       "\n",
       "            V7        V8        V9  ...    V20361    V20362    V20363  \\\n",
       "0     1.140874  0.240170 -0.719405  ... -0.735470 -1.137672  0.145935   \n",
       "1     1.144041  0.237009 -0.695634  ... -0.709256 -1.128049  0.145643   \n",
       "2     1.170916  0.215361 -0.694578  ... -0.700240 -1.167515  0.128537   \n",
       "3     1.094825  0.215972 -0.725795  ... -0.734093 -1.088197  0.133849   \n",
       "4     1.204657  0.235932 -0.662561  ... -0.670984 -1.197001  0.144216   \n",
       "...        ...       ...       ...  ...       ...       ...       ...   \n",
       "1073  1.188923  0.221499 -0.673963  ... -0.691106 -1.186213  0.131858   \n",
       "1074  1.139000  0.220820 -0.676174  ... -0.684951 -1.129100  0.131657   \n",
       "1075  1.190887  0.208437 -0.640092  ... -0.649076 -1.192142  0.108672   \n",
       "1076  1.192110  0.218945 -0.647304  ... -0.662508 -1.185380  0.129357   \n",
       "1077  1.226260  0.219940 -0.681828  ... -0.689045 -1.217487  0.126365   \n",
       "\n",
       "        V20364    V20365    V20366    V20367    V20368    V20369    V20370  \n",
       "0    -0.730931 -1.141756  0.175892 -0.724656 -1.144403  0.206969 -0.720106  \n",
       "1    -0.704599 -1.134815  0.176807 -0.698365 -1.139156  0.208658 -0.693825  \n",
       "2    -0.697338 -1.169538  0.158299 -0.693222 -1.170934  0.189161 -0.690173  \n",
       "3    -0.730142 -1.090463  0.164519 -0.725203 -1.092341  0.195576 -0.721081  \n",
       "4    -0.666816 -1.199955  0.174402 -0.661598 -1.202177  0.205162 -0.657615  \n",
       "...        ...       ...       ...       ...       ...       ...       ...  \n",
       "1073 -0.686316 -1.190137  0.162746 -0.680038 -1.192317  0.194252 -0.676025  \n",
       "1074 -0.681118 -1.132830  0.162250 -0.676173 -1.135421  0.193329 -0.672207  \n",
       "1075 -0.645450 -1.189774  0.140396 -0.640465 -1.189483  0.171503 -0.635856  \n",
       "1076 -0.658562 -1.189708  0.159697 -0.653072 -1.192598  0.190586 -0.649308  \n",
       "1077 -0.685735 -1.219491  0.158065 -0.681150 -1.221615  0.189674 -0.677058  \n",
       "\n",
       "[1078 rows x 20371 columns]"
      ]
     },
     "execution_count": 3,
     "metadata": {},
     "output_type": "execute_result"
    }
   ],
   "source": [
    "face = pd.read_csv('./penstate_data/download/qls.csv')\n",
    "face"
   ]
  },
  {
   "cell_type": "code",
   "execution_count": 4,
   "id": "11e5fa47-fe15-45be-843e-156054880446",
   "metadata": {},
   "outputs": [
    {
     "name": "stdout",
     "output_type": "stream",
     "text": [
      "Total number of cordinate column:  20370\n",
      "Number of a single cordinate column (x/y/z):  6790\n"
     ]
    }
   ],
   "source": [
    "num_cols = face.shape[1] - 1\n",
    "print(\"Total number of cordinate column: \", num_cols)\n",
    "\n",
    "num_cordinate_col = num_cols//3\n",
    "print(\"Number of a single cordinate column (x/y/z): \", num_cordinate_col) \n",
    "\n",
    "np_face = np.array(face)"
   ]
  },
  {
   "cell_type": "markdown",
   "id": "53dea41c-982f-42b3-a6ae-c965fbe1b91d",
   "metadata": {
    "jp-MarkdownHeadingCollapsed": true,
    "tags": []
   },
   "source": [
    "### 1.1 Test"
   ]
  },
  {
   "cell_type": "code",
   "execution_count": 8,
   "id": "132fd7f9-d0f9-4276-8a2b-f443af54d776",
   "metadata": {
    "pycharm": {
     "name": "#%%\n"
    }
   },
   "outputs": [
    {
     "name": "stdout",
     "output_type": "stream",
     "text": [
      "<class 'pandas.core.frame.DataFrame'>\n",
      "RangeIndex: 1078 entries, 0 to 1077\n",
      "Columns: 20371 entries, ID to V20370\n",
      "dtypes: float64(20370), int64(1)\n",
      "memory usage: 167.5 MB\n"
     ]
    }
   ],
   "source": [
    "face.info()"
   ]
  },
  {
   "cell_type": "code",
   "execution_count": 4,
   "id": "f5360481-bee0-4a03-9cfa-73717d8ff63f",
   "metadata": {},
   "outputs": [
    {
     "data": {
      "text/plain": [
       "(1078, 20371)"
      ]
     },
     "execution_count": 4,
     "metadata": {},
     "output_type": "execute_result"
    }
   ],
   "source": [
    "face.values.shape"
   ]
  },
  {
   "cell_type": "markdown",
   "id": "3f475932-af59-499e-8270-8a3e80d1f3aa",
   "metadata": {
    "jp-MarkdownHeadingCollapsed": true,
    "pycharm": {
     "name": "#%% md\n"
    },
    "tags": []
   },
   "source": [
    "## 2. Choose index from face dataframe(qls.csv)"
   ]
  },
  {
   "cell_type": "code",
   "execution_count": 5,
   "id": "a8029fa6-9dbb-4dbb-936c-e3d5ec8e70df",
   "metadata": {
    "pycharm": {
     "name": "#%%\n"
    }
   },
   "outputs": [],
   "source": [
    "# Pick 65 points on the face\n",
    "face_indices = [2570, 2569, 2564, 3675, 2582,\n",
    "                 1445, 3848, 1427, 1432, 1433,\n",
    "                 2428, 2451, 2495, 2471, 3638, 2276, 2355, 2359,\n",
    "                 3835, 1292, 1344, 1216, 1154, 999, 991, 4046,\n",
    "                 3704, 3553, 3561, 3501, 3564,\n",
    "                 2747, 1613, 1392, 3527, 471, 480, 1611,\n",
    "                 3797, 2864, 2811, 3543, 1694, 1749,\n",
    "                 3920, 2881, 2905, 1802, 1774, 3503,\n",
    "                 3515, 3502, 3401, 3399, 3393,\n",
    "                 3385, 1962, 3381, 3063, 3505,\n",
    "                 3595, 3581, 3577, 2023, 567]"
   ]
  },
  {
   "cell_type": "code",
   "execution_count": 6,
   "id": "a0bf7e3e-f299-4c56-b08e-dd81ecea5ca6",
   "metadata": {
    "pycharm": {
     "name": "#%%\n"
    }
   },
   "outputs": [],
   "source": [
    "# Different AM chosen\n",
    "measurement_info = [\n",
    "            # 0 - 24\n",
    "            ['dist', 10, 14],\n",
    "            ['dist', 18, 22],\n",
    "            ['dist', 14, 18],\n",
    "            ['dist', 10, 22],\n",
    "            ['dist', 4, 5],\n",
    "            ['dist', 0, 9],\n",
    "            ['dist', 2, 7],\n",
    "            ['dist', 58, 60],\n",
    "            ['dist', 57, 61],\n",
    "            ['dist', 56, 62],\n",
    "            ['dist', 55, 63],\n",
    "            ['dist', 54, 64],\n",
    "            ['dist', 31, 37], ##\n",
    "            ['dist', 32, 36], ##\n",
    "            ['dist', 33, 35], #\n",
    "            ['dist', 48, 46], ##\n",
    "            ['dist', 40, 42], ##\n",
    "            ['dist', 54, 53],\n",
    "            ['dist', 53, 64],\n",
    "            ['dist', 38, 44],\n",
    "            ['dist', 48, 46], ##\n",
    "            ['dist', 39, 43], #\n",
    "            ['dist', 41, 47], #\n",
    "            ['dist', 12, 16],\n",
    "            ['dist', 20, 24],\n",
    "\n",
    "            # 25 - 49\n",
    "            ['dist', 59, 27],\n",
    "            ['dist', 59, 30],\n",
    "            ['dist', 59, 34],\n",
    "            ['dist', 59, 50],\n",
    "            ['dist', 59, 51],\n",
    "            ['dist', 59, 53],\n",
    "            ['dist', 27, 30],\n",
    "            ['dist', 26, 50],\n",
    "            ['dist', 30, 34],\n",
    "            ['dist', 30, 51],\n",
    "            ['dist', 30, 52],\n",
    "            ['dist', 30, 53],\n",
    "            ['dist', 34, 50],\n",
    "            ['dist', 41, 47], #\n",
    "            ['dist', 51, 52],\n",
    "            ['dist', 52, 53],\n",
    "            ['dist', 50, 53],\n",
    "            ['dist', 54, 55],\n",
    "            ['dist', 55, 56],\n",
    "            ['dist', 56, 57],\n",
    "            ['dist', 57, 58],\n",
    "            ['dist', 60, 61],\n",
    "            ['dist', 61, 62],\n",
    "            ['dist', 62, 63],\n",
    "            ['dist', 63, 64],\n",
    "\n",
    "            # 50 - 63\n",
    "            ['prop', 31, 37, 27, 30], ##\n",
    "            ['prop', 32, 36, 27, 30], ##\n",
    "            ['prop', 57, 61, 27, 30],\n",
    "            ['prop', 56, 62, 27, 30],\n",
    "            ['prop', 55, 63, 27, 30],\n",
    "            ['prop', 54, 64, 27, 30],\n",
    "            ['prop', 38, 44, 27, 30],\n",
    "            ['prop', 31, 37, 59, 53], ##\n",
    "            ['prop', 32, 36, 59, 53], #\n",
    "            ['prop', 57, 61, 59, 53],\n",
    "            ['prop', 56, 62, 59, 53],\n",
    "            ['prop', 55, 63, 59, 53],\n",
    "            ['prop', 54, 64, 59, 53],\n",
    "            ['prop', 38, 44, 59, 53],\n",
    "\n",
    "            # 64 - 77\n",
    "            ['prop', 58, 60, 57, 61],\n",
    "            ['prop', 57, 61, 56, 62],\n",
    "            ['prop', 56, 62, 55, 63],\n",
    "            ['prop', 55, 63, 54, 64],\n",
    "            ['prop', 57, 61, 31, 37], #\n",
    "            ['prop', 56, 62, 31, 37], #\n",
    "            ['prop', 55, 63, 31, 37], #\n",
    "            ['prop', 58, 60, 31, 37], #\n",
    "            ['prop', 54, 64, 31, 37], #\n",
    "            ['prop', 38, 44, 31, 37],\n",
    "            ['prop', 59, 53, 27, 30],\n",
    "            ['prop', 51, 52, 52, 53],\n",
    "            ['prop', 50, 51, 50, 53],\n",
    "            ['prop', 27, 30, 27, 53],\n",
    "\n",
    "            # 78 - 86\n",
    "            ['angle', 56, 57, 58], \n",
    "            ['angle', 55, 56, 57], \n",
    "            ['angle', 54, 55, 56],\n",
    "            ['angle', 53, 54, 55],\n",
    "            ['angle', 64, 53, 54],\n",
    "            ['angle', 63, 64, 53],\n",
    "            ['angle', 62, 63, 64],\n",
    "            ['angle', 61, 62, 63],\n",
    "            ['angle', 60, 61, 62],\n",
    "\n",
    "            # 87 - 95\n",
    "            ['angle', 31, 29, 37], ##\n",
    "            ['angle', 31, 30, 37], ##\n",
    "            ['angle', 27, 30, 34],\n",
    "            ['angle', 51, 52, 53],\n",
    "            ['angle', 27, 30, 31],\n",
    "            ['angle', 37, 30, 27],\n",
    "            ['angle', 37, 50, 31],\n",
    "            ['angle', 63, 53, 55],\n",
    "            ['angle', 29, 30, 34],\n",
    "    \n",
    "#              # 78 - 86\n",
    "#             ['angle', 56, 57, 58, -0.1011, -0.3078,  0.9344], \n",
    "#             ['angle', 55, 56, 57, -0.9009, -0.1629,  0.3678], \n",
    "#             ['angle', 54, 55, 56, -0.7863, -0.1348,  0.5986],\n",
    "#             ['angle', 53, 54, 55, -0.3654,  0.5084,  0.7771],\n",
    "#             ['angle', 64, 53, 54, -0.0262,  0.9601,  0.2719],\n",
    "#             ['angle', 63, 64, 53,  0.2780,  0.6064,  0.7425],\n",
    "#             ['angle', 62, 63, 64,  0.8007, -0.1164,  0.5832],\n",
    "#             ['angle', 61, 62, 63,  0.9095, -0.1439,  0.3239],\n",
    "#             ['angle', 60, 61, 62,  0.4377, -0.2226,  0.8568],\n",
    "\n",
    "#             # 87 - 95\n",
    "#             ['angle', 31, 29, 37, -0.0054, -0.6474,  0.7596], ##\n",
    "#             ['angle', 31, 30, 37, -0.0098, -0.9611,  0.2697], ##\n",
    "#             ['angle', 27, 30, 34, -0.9997, -0.0218, -0.0046],\n",
    "#             ['angle', 51, 52, 53, -0.9893,  0.0432, -0.0409],\n",
    "#             ['angle', 27, 30, 31, -0.7108,  0.4236,  0.5553],\n",
    "#             ['angle', 37, 30, 27,  0.7083,  0.4411,  0.5448],\n",
    "#             ['angle', 37, 50, 31,  0.0048,  0.2632,  0.9614],\n",
    "#             ['angle', 63, 53, 55,  0.0039,  0.8142,  0.5791],\n",
    "#             ['angle', 29, 30, 34, -0.9987, -0.0466,  0.0199],\n",
    "    \n",
    "        ]\n"
   ]
  },
  {
   "cell_type": "markdown",
   "id": "1a7693c6-93cd-4993-959b-811fae8404db",
   "metadata": {
    "pycharm": {
     "name": "#%% md\n"
    }
   },
   "source": [
    "## 3. Calculation"
   ]
  },
  {
   "cell_type": "markdown",
   "id": "5798db45-8b73-4c11-966f-e1ca2882fd22",
   "metadata": {
    "pycharm": {
     "name": "#%% md\n"
    },
    "tags": []
   },
   "source": [
    "### 3.1 Distance"
   ]
  },
  {
   "cell_type": "code",
   "execution_count": 7,
   "id": "e1e78404-6cf8-4a40-81f3-cce05d7f303c",
   "metadata": {
    "pycharm": {
     "name": "#%%\n"
    }
   },
   "outputs": [],
   "source": [
    "# my version\n",
    "def get_distance(face, idx1, idx2):\n",
    "    x_col = face[:, idx1]\n",
    "    y_col = face[:, idx1 + num_cordinate_col]\n",
    "    z_col = face[:, idx1 + 2 * num_cordinate_col]\n",
    "    cordinate1 = np.stack([x_col, y_col, z_col])\n",
    "    \n",
    "    x_col = face[:, idx2]\n",
    "    y_col = face[:, idx2 + num_cordinate_col]\n",
    "    z_col = face[:, idx2 + 2 * num_cordinate_col]\n",
    "    cordinate2 = np.stack([x_col, y_col, z_col])\n",
    "    \n",
    "    diff = cordinate2 - cordinate1\n",
    "    distance = np.sqrt(np.sum(diff * diff, axis=0))\n",
    "    return distance"
   ]
  },
  {
   "cell_type": "markdown",
   "id": "8f9ad82e-ccb1-4a9e-b8b9-3f820fe33c49",
   "metadata": {
    "jp-MarkdownHeadingCollapsed": true,
    "pycharm": {
     "name": "#%% md\n"
    },
    "tags": []
   },
   "source": [
    "#### 3.1.1 Test"
   ]
  },
  {
   "cell_type": "code",
   "execution_count": 18,
   "id": "648ef30a-8e4f-4f98-a0ce-b7fb087892fc",
   "metadata": {
    "pycharm": {
     "name": "#%%\n"
    }
   },
   "outputs": [
    {
     "name": "stdout",
     "output_type": "stream",
     "text": [
      "index[10], index[14] =  2428 3638\n",
      "[1.24339906 1.25903576 1.23164034 ... 1.22402939 1.24969587 1.25556593]\n",
      "[1.56063341 1.56339715 1.57822708 ... 1.57386777 1.59456764 1.51828095]\n"
     ]
    }
   ],
   "source": [
    "print(\"index[10], index[14] = \", face_indices[10], face_indices[14])\n",
    "# example\n",
    "print(get_distance(np_face, face_indices[10], face_indices[14]))\n",
    "print(get_distance(np_face, 1, 2))"
   ]
  },
  {
   "cell_type": "code",
   "execution_count": 33,
   "id": "21610218-8eea-4740-83be-42a59473f619",
   "metadata": {
    "pycharm": {
     "name": "#%%\n"
    }
   },
   "outputs": [],
   "source": [
    "# example code\n",
    "def wtf_get_distance(face, idx1, idx2):\n",
    "    diff = face[idx1, :] - face[idx2, :]\n",
    "    distance = np.sqrt(np.sum(diff * diff))\n",
    "    return distance"
   ]
  },
  {
   "cell_type": "code",
   "execution_count": 33,
   "id": "59de40d0-7fb3-4bb8-a68a-9791c51dc1f0",
   "metadata": {
    "pycharm": {
     "name": "#%%\n"
    }
   },
   "outputs": [
    {
     "name": "stdout",
     "output_type": "stream",
     "text": [
      "First user:  [ 1.40012000e+05  1.14210358e+00  3.02940749e-01 ... -1.14440298e+00\n",
      "  2.06968585e-01 -7.20105654e-01]\n",
      "x = :  1.14210357642963\n",
      "y = :  1.29779936879771\n",
      "z = :  0.174804212387015\n"
     ]
    }
   ],
   "source": [
    "face = np.array(face)\n",
    "# first user\n",
    "print(\"First user: \",face[0])\n",
    "\n",
    "# x\n",
    "print(\"x = : \",face[0][1])\n",
    "# y\n",
    "print(\"y = : \",face[0][1+num_cordinate_col])\n",
    "# z\n",
    "print(\"z = : \",face[0][1+2*num_cordinate_col])"
   ]
  },
  {
   "cell_type": "code",
   "execution_count": 52,
   "id": "fddb555d-a6bd-4811-84d9-f8f7a770e08c",
   "metadata": {
    "pycharm": {
     "name": "#%%\n"
    }
   },
   "outputs": [
    {
     "name": "stdout",
     "output_type": "stream",
     "text": [
      "Concatenate1 x y z:  [[1.14210358 1.14952029 1.16859276 ... 1.18577987 1.19499615 1.22740618]\n",
      " [1.29779937 1.30963107 1.3051978  ... 1.27343685 1.29636338 1.23158716]\n",
      " [0.17480421 0.20730591 0.18707371 ... 0.1772353  0.14842035 0.23237584]]\n",
      "Cordinate1 for user 1:  [1.14210358 1.29779937 0.17480421]\n",
      "\n",
      "\n",
      "Concatenate2 x y z:  [[ 0.30294075  0.30028706  0.2773556  ...  0.27197065  0.28210467\n",
      "   0.28448762]\n",
      " [ 0.0900863   0.12766052  0.12583716 ...  0.10358477  0.10305528\n",
      "   0.19451008]\n",
      " [-0.34750942 -0.36362247 -0.36574227 ... -0.34569737 -0.38570594\n",
      "  -0.35119314]]\n",
      "Cordinate2 for user 1:  [ 0.30294075  0.0900863  -0.34750942]\n",
      "\n",
      "\n"
     ]
    },
    {
     "data": {
      "text/plain": [
       "1.5606334065096383"
      ]
     },
     "execution_count": 52,
     "metadata": {},
     "output_type": "execute_result"
    }
   ],
   "source": [
    "x_col = face[:, 1]\n",
    "y_col = face[:, 1+num_cordinate_col]\n",
    "z_col = face[:, 1+2*num_cordinate_col]\n",
    "cordinate1 = np.stack([x_col, y_col, z_col])\n",
    "\n",
    "x_col = face[:, 2]\n",
    "y_col = face[:, 2+num_cordinate_col]\n",
    "z_col = face[:, 2+2*num_cordinate_col]\n",
    "cordinate2 = np.stack([x_col, y_col, z_col])\n",
    "\n",
    "print(\"Concatenate1 x y z: \", cordinate1)\n",
    "print(\"Cordinate1 for user 1: \", cordinate1[:,0])\n",
    "print(\"\\n\")\n",
    "\n",
    "print(\"Concatenate2 x y z: \", cordinate2)\n",
    "print(\"Cordinate2 for user 1: \", cordinate2[:,0])\n",
    "# print(np.transpose(cordinate))\n",
    "print(\"\\n\")\n",
    "\n",
    "diff = cordinate2[:,0] - cordinate1[:,0]\n",
    "distance = np.sqrt(np.sum(diff * diff))\n",
    "distance"
   ]
  },
  {
   "cell_type": "code",
   "execution_count": 68,
   "id": "f4d231c5-d21b-4282-8ec2-1d314403e074",
   "metadata": {},
   "outputs": [
    {
     "name": "stdout",
     "output_type": "stream",
     "text": [
      "[[1 2 3]\n",
      " [4 5 6]\n",
      " [7 8 9]]\n",
      "[[ 1  4  9]\n",
      " [16 25 36]\n",
      " [49 64 81]]\n",
      "[ 66  93 126]\n"
     ]
    }
   ],
   "source": [
    "a = np.array([[1,2,3], [4,5,6], [7,8,9]])\n",
    "print(a)\n",
    "print(a*a)\n",
    "print(np.sum(a*a, axis=0))"
   ]
  },
  {
   "cell_type": "code",
   "execution_count": 63,
   "id": "c7234ec8-8c3b-4b2b-b438-f536ed6b68bd",
   "metadata": {},
   "outputs": [
    {
     "name": "stdout",
     "output_type": "stream",
     "text": [
      "[[-0.83916283 -0.84923323 -0.89123717 ... -0.91380922 -0.91289149\n",
      "  -0.94291856]\n",
      " [-1.20771306 -1.18197055 -1.17936064 ... -1.16985208 -1.19330809\n",
      "  -1.03707708]\n",
      " [-0.52231363 -0.57092838 -0.55281598 ... -0.52293267 -0.53412629\n",
      "  -0.58356899]]\n",
      "(3, 1078)\n",
      "[[-0.83916283 -0.84923323 -0.89123717 ... -0.91380922 -0.91289149\n",
      "  -0.94291856]\n",
      " [-1.20771306 -1.18197055 -1.17936064 ... -1.16985208 -1.19330809\n",
      "  -1.03707708]\n",
      " [-0.52231363 -0.57092838 -0.55281598 ... -0.52293267 -0.53412629\n",
      "  -0.58356899]]\n"
     ]
    },
    {
     "data": {
      "text/plain": [
       "array([1.56063341, 1.56339715, 1.57822708, ..., 1.57386777, 1.59456764,\n",
       "       1.51828095])"
      ]
     },
     "execution_count": 63,
     "metadata": {},
     "output_type": "execute_result"
    }
   ],
   "source": [
    "diff = cordinate2 - cordinate1\n",
    "print(diff)\n",
    "print(diff.shape)\n",
    "print(diff)\n",
    "\n",
    "distance = np.sqrt(np.sum(diff * diff, axis=0))\n",
    "distance"
   ]
  },
  {
   "cell_type": "markdown",
   "id": "7d511bc9-22e7-42fa-bea7-3aaa21d5e5ec",
   "metadata": {
    "pycharm": {
     "name": "#%% md\n"
    },
    "tags": []
   },
   "source": [
    "### 3.2 Proportion"
   ]
  },
  {
   "cell_type": "code",
   "execution_count": 8,
   "id": "2f4656d8-2389-46cb-9c82-65c6bd5e6c2d",
   "metadata": {
    "pycharm": {
     "name": "#%%\n"
    }
   },
   "outputs": [],
   "source": [
    "# my version\n",
    "def get_proportion(target, idx1, idx2, idx3, idx4):\n",
    "    dist1 = get_distance(target, idx1, idx2)\n",
    "    dist2 = get_distance(target, idx3, idx4)\n",
    "    return dist1 / dist2"
   ]
  },
  {
   "cell_type": "markdown",
   "id": "5a974adb-7cfa-4df2-be0b-05724545f91c",
   "metadata": {
    "jp-MarkdownHeadingCollapsed": true,
    "pycharm": {
     "name": "#%% md\n"
    },
    "tags": []
   },
   "source": [
    "#### 3.2.1 Test"
   ]
  },
  {
   "cell_type": "code",
   "execution_count": 77,
   "id": "c0bca44d-1515-43d9-b450-2bb56ae5f2ff",
   "metadata": {
    "pycharm": {
     "name": "#%%\n"
    }
   },
   "outputs": [],
   "source": [
    "# example code\n",
    "def wtf_get_proportion(target, idx1, idx2, idx3, idx4):\n",
    "    dist1 = get_distance(target, idx1, idx2)\n",
    "    dist2 = get_distance(target, idx3, idx4)\n",
    "    return dist1 / dist2"
   ]
  },
  {
   "cell_type": "code",
   "execution_count": 20,
   "id": "5c9831a8-216c-4749-a3e5-023dabce5009",
   "metadata": {
    "pycharm": {
     "name": "#%%\n"
    }
   },
   "outputs": [
    {
     "name": "stdout",
     "output_type": "stream",
     "text": [
      "[1.14543339 1.13773428 1.1086904  ... 1.09002697 1.08876476 1.11345041] [0.90957681 0.88305985 0.84902914 ... 0.79123452 0.81195322 0.8372071 ]\n",
      "dist1 / dist2 =\n",
      " [1.25930364 1.28839996 1.30583316 ... 1.37762817 1.34092054 1.32995815]\n",
      "shape of dist1 / dist2 =\n",
      " (1078,)\n"
     ]
    }
   ],
   "source": [
    "dist1 = get_distance(np_face, 12, 14)\n",
    "dist2 = get_distance(np_face, 44, 45)\n",
    "print(dist1, dist2)\n",
    "print(\"dist1 / dist2 =\\n\", dist1 / dist2)\n",
    "print(\"shape of dist1 / dist2 =\\n\", (dist1 / dist2).shape)"
   ]
  },
  {
   "cell_type": "markdown",
   "id": "fdbbc95a-5f07-4242-aaab-6ae149e81e28",
   "metadata": {
    "pycharm": {
     "name": "#%% md\n"
    },
    "tags": []
   },
   "source": [
    "### 3.3 Angle"
   ]
  },
  {
   "cell_type": "code",
   "execution_count": 9,
   "id": "502ad2ef-76d9-44db-a2f6-9faf3988749d",
   "metadata": {
    "pycharm": {
     "name": "#%%\n"
    }
   },
   "outputs": [],
   "source": [
    "##################### TO DO #######################\n",
    "def get_angle(face, idx1, idx2, idx3):\n",
    "    x_col = face[:, idx1]\n",
    "    y_col = face[:, idx1 + num_cordinate_col]\n",
    "    z_col = face[:, idx1 + 2 * num_cordinate_col]\n",
    "    cordinate1 = np.stack([x_col, y_col, z_col])\n",
    "    \n",
    "    x_col = face[:, idx2]\n",
    "    y_col = face[:, idx2 + num_cordinate_col]\n",
    "    z_col = face[:, idx2 + 2 * num_cordinate_col]\n",
    "    cordinate2 = np.stack([x_col, y_col, z_col])\n",
    "    \n",
    "    x_col = face[:, idx3]\n",
    "    y_col = face[:, idx3 + num_cordinate_col]\n",
    "    z_col = face[:, idx3 + 2 * num_cordinate_col]\n",
    "    cordinate3 = np.stack([x_col, y_col, z_col])\n",
    "    \n",
    "    # get vector\n",
    "    v12 = cordinate1 - cordinate2\n",
    "    v32 = cordinate3 - cordinate2\n",
    "    \n",
    "    # get dot product of two coordinate\n",
    "    dot_prod = np.sum(v12 * v32, axis=0)\n",
    "    \n",
    "    # get magnitude(distance)\n",
    "    mag12 = get_distance(face, idx1, idx2);\n",
    "    mag32 = get_distance(face, idx3, idx2);\n",
    "    \n",
    "    # get cos\n",
    "    cos_ = dot_prod / mag12 / mag32\n",
    "    \n",
    "    # get radius\n",
    "    angle = np.arccos(cos_)\n",
    "    \n",
    "    # convert degree\n",
    "    # Basically doing angle <- angle mod 360\n",
    "    ang_deg = np.degrees(angle) % 360\n",
    "    return ang_deg"
   ]
  },
  {
   "cell_type": "markdown",
   "id": "318245cc-4ef6-49ff-a4ef-488c76f655dc",
   "metadata": {
    "jp-MarkdownHeadingCollapsed": true,
    "pycharm": {
     "name": "#%% md\n"
    },
    "tags": []
   },
   "source": [
    "#### 3.3.1 Test"
   ]
  },
  {
   "cell_type": "code",
   "execution_count": 21,
   "id": "37e87128-4c84-4503-92c7-8c497d1b6bcc",
   "metadata": {
    "pycharm": {
     "name": "#%%\n"
    }
   },
   "outputs": [
    {
     "data": {
      "text/plain": [
       "array([53.39897399, 52.60659287, 53.57944039, ..., 52.37297352,\n",
       "       51.92487925, 53.98918242])"
      ]
     },
     "execution_count": 21,
     "metadata": {},
     "output_type": "execute_result"
    }
   ],
   "source": [
    "get_angle(np_face, 1, 4, 330)"
   ]
  },
  {
   "cell_type": "code",
   "execution_count": 137,
   "id": "ad8dfde1-f4ab-4a70-bdb7-f403f2120961",
   "metadata": {},
   "outputs": [
    {
     "name": "stdout",
     "output_type": "stream",
     "text": [
      "a = \n",
      " [[1 2 3 1]\n",
      " [3 2 1 1]\n",
      " [2 1 3 1]]\n",
      "b = \n",
      " [[1 1 1 1]\n",
      " [2 2 1 2]\n",
      " [3 2 1 2]]\n",
      "c = \n",
      " [[2 2 1 2]\n",
      " [1 1 2 1]\n",
      " [3 2 1 2]]\n",
      "vab = \n",
      " [[ 0  1  2  0]\n",
      " [ 1  0  0 -1]\n",
      " [-1 -1  2 -1]]\n",
      "vcb = \n",
      " [[ 1  1  0  1]\n",
      " [-1 -1  1 -1]\n",
      " [ 0  0  0  0]]\n",
      "vab * vcb =\n",
      " [[ 0  1  0  0]\n",
      " [-1  0  0  1]\n",
      " [ 0  0  0  0]]\n",
      "vab dot vcb =  [-1  1  0  1]\n",
      "mag_ab =  [1.41421356 1.41421356 2.82842712 1.41421356]\n",
      "mag_cb =  [1.41421356 1.41421356 1.         1.41421356]\n",
      "cos =  [-0.5  0.5  0.   0.5]\n",
      "angle =  [2.0943951  1.04719755 1.57079633 1.04719755]\n",
      "ang_deg =  [120.  60.  90.  60.]\n"
     ]
    }
   ],
   "source": [
    "## dot product test\n",
    "a = np.array([[1,2,3,1], [3,2,1,1], [2,1,3,1]])\n",
    "b = np.array([[1,1,1,1], [2,2,1,2], [3,2,1,2]])\n",
    "c = np.array([[2,2,1,2],[1,1,2,1], [3,2,1,2]])\n",
    "print(\"a = \\n\", a)\n",
    "print(\"b = \\n\", b)\n",
    "print(\"c = \\n\", c)\n",
    "\n",
    "vab = a - b\n",
    "vcb = c - b\n",
    "\n",
    "print(\"vab = \\n\", vab)\n",
    "print(\"vcb = \\n\", vcb)\n",
    "\n",
    "# get dot product of two coordinate\n",
    "dot_prod = np.sum(vab * vcb, axis=0)\n",
    "print(\"vab * vcb =\\n\", vab * vcb)\n",
    "print(\"vab dot vcb = \", dot_prod)\n",
    "\n",
    "# get magnitude(distance)\n",
    "mag_ab = np.sqrt(np.sum(vab * vab, axis=0))\n",
    "mag_cb = np.sqrt(np.sum(vcb * vcb, axis=0))\n",
    "print(\"mag_ab = \", mag_ab)\n",
    "print(\"mag_cb = \", mag_cb)\n",
    "\n",
    "# Get cosine value\n",
    "cos = dot_prod / mag_ab / mag_cb\n",
    "print(\"cos = \", cos)\n",
    "\n",
    "# Get angle in radians and then convert to degrees\n",
    "angle = np.arccos(cos)\n",
    "print(\"angle = \", angle)\n",
    "\n",
    "# Basically doing angle <- angle mod 360\n",
    "ang_deg = np.degrees(angle) % 360\n",
    "print(\"ang_deg = \", ang_deg)"
   ]
  },
  {
   "cell_type": "code",
   "execution_count": 82,
   "id": "682d2816-5db2-4c0e-89e7-9ef5b0186319",
   "metadata": {
    "pycharm": {
     "name": "#%%\n"
    }
   },
   "outputs": [
    {
     "name": "stdout",
     "output_type": "stream",
     "text": [
      "Concatenate1 x y z:  [[1.14210358 1.14952029 1.16859276 ... 1.18577987 1.19499615 1.22740618]\n",
      " [1.29779937 1.30963107 1.3051978  ... 1.27343685 1.29636338 1.23158716]\n",
      " [0.17480421 0.20730591 0.18707371 ... 0.1772353  0.14842035 0.23237584]]\n",
      "Cordinate1 for user 1:  [1.14210358 1.29779937 0.17480421]\n",
      "\n",
      "\n",
      "Concatenate2 x y z:  [[ 0.30294075  0.30028706  0.2773556  ...  0.27197065  0.28210467\n",
      "   0.28448762]\n",
      " [ 0.0900863   0.12766052  0.12583716 ...  0.10358477  0.10305528\n",
      "   0.19451008]\n",
      " [-0.34750942 -0.36362247 -0.36574227 ... -0.34569737 -0.38570594\n",
      "  -0.35119314]]\n",
      "Cordinate2 for user 1:  [ 0.30294075  0.0900863  -0.34750942]\n",
      "\n",
      "\n"
     ]
    }
   ],
   "source": [
    "x_col = face[:, 1]\n",
    "y_col = face[:, 1+num_cordinate_col]\n",
    "z_col = face[:, 1+2*num_cordinate_col]\n",
    "cordinate1 = np.stack([x_col, y_col, z_col])\n",
    "\n",
    "x_col = face[:, 2]\n",
    "y_col = face[:, 2+num_cordinate_col]\n",
    "z_col = face[:, 2+2*num_cordinate_col]\n",
    "cordinate2 = np.stack([x_col, y_col, z_col])\n",
    "\n",
    "print(\"Concatenate1 x y z: \", cordinate1)\n",
    "print(\"Cordinate1 for user 1: \", cordinate1[:,0])\n",
    "print(\"\\n\")\n",
    "\n",
    "print(\"Concatenate2 x y z: \", cordinate2)\n",
    "print(\"Cordinate2 for user 1: \", cordinate2[:,0])\n",
    "# print(np.transpose(cordinate))\n",
    "print(\"\\n\")"
   ]
  },
  {
   "cell_type": "markdown",
   "id": "bb4b5068-a812-47eb-8aff-fbcbae78ed3a",
   "metadata": {
    "pycharm": {
     "name": "#%% md\n"
    },
    "tags": []
   },
   "source": [
    "## 4. Measurement and AM DataFrame"
   ]
  },
  {
   "cell_type": "code",
   "execution_count": 10,
   "id": "fee8da0f-4ea3-4c25-8d82-0dab278830a1",
   "metadata": {
    "pycharm": {
     "name": "#%%\n"
    }
   },
   "outputs": [],
   "source": [
    "def get_measurement(face, info):\n",
    "    mtype = info[0]\n",
    "    idx1 = face_indices[info[1]]\n",
    "    idx2 = face_indices[info[2]]\n",
    "    if mtype == 'dist':\n",
    "        measurement = get_distance(face, idx1, idx2)\n",
    "    elif mtype == 'prop':\n",
    "        idx3 = face_indices[info[3]]\n",
    "        idx4 = face_indices[info[4]]\n",
    "        measurement = get_proportion(face, idx1, idx2, idx3, idx4)\n",
    "    elif mtype == 'angle':\n",
    "        idx3 = face_indices[info[3]]\n",
    "        measurement = get_angle(face, idx1, idx2, idx3)\n",
    "    else:\n",
    "        raise ValueError('unknown type {}'.format(mtype))\n",
    "\n",
    "    return measurement"
   ]
  },
  {
   "cell_type": "code",
   "execution_count": 17,
   "id": "17af252a-f831-404b-a33e-de80aadb156f",
   "metadata": {
    "pycharm": {
     "name": "#%%\n"
    },
    "tags": []
   },
   "outputs": [
    {
     "data": {
      "text/html": [
       "<div>\n",
       "<style scoped>\n",
       "    .dataframe tbody tr th:only-of-type {\n",
       "        vertical-align: middle;\n",
       "    }\n",
       "\n",
       "    .dataframe tbody tr th {\n",
       "        vertical-align: top;\n",
       "    }\n",
       "\n",
       "    .dataframe thead th {\n",
       "        text-align: right;\n",
       "    }\n",
       "</style>\n",
       "<table border=\"1\" class=\"dataframe\">\n",
       "  <thead>\n",
       "    <tr style=\"text-align: right;\">\n",
       "      <th></th>\n",
       "      <th>ID</th>\n",
       "      <th>1</th>\n",
       "      <th>2</th>\n",
       "      <th>3</th>\n",
       "      <th>4</th>\n",
       "      <th>5</th>\n",
       "      <th>6</th>\n",
       "      <th>7</th>\n",
       "      <th>8</th>\n",
       "      <th>9</th>\n",
       "      <th>...</th>\n",
       "      <th>87</th>\n",
       "      <th>88</th>\n",
       "      <th>89</th>\n",
       "      <th>90</th>\n",
       "      <th>91</th>\n",
       "      <th>92</th>\n",
       "      <th>93</th>\n",
       "      <th>94</th>\n",
       "      <th>95</th>\n",
       "      <th>96</th>\n",
       "    </tr>\n",
       "  </thead>\n",
       "  <tbody>\n",
       "    <tr>\n",
       "      <th>0</th>\n",
       "      <td>140012</td>\n",
       "      <td>1.243399</td>\n",
       "      <td>0.897036</td>\n",
       "      <td>0.759408</td>\n",
       "      <td>1.419205</td>\n",
       "      <td>1.148332</td>\n",
       "      <td>1.161105</td>\n",
       "      <td>0.738964</td>\n",
       "      <td>1.516626</td>\n",
       "      <td>1.253521</td>\n",
       "      <td>...</td>\n",
       "      <td>58.804049</td>\n",
       "      <td>27.414642</td>\n",
       "      <td>9.930506</td>\n",
       "      <td>65.297325</td>\n",
       "      <td>45.118798</td>\n",
       "      <td>64.132135</td>\n",
       "      <td>54.896465</td>\n",
       "      <td>29.862477</td>\n",
       "      <td>25.268476</td>\n",
       "      <td>26.370851</td>\n",
       "    </tr>\n",
       "    <tr>\n",
       "      <th>1</th>\n",
       "      <td>140017</td>\n",
       "      <td>1.259036</td>\n",
       "      <td>0.912938</td>\n",
       "      <td>0.763635</td>\n",
       "      <td>1.438525</td>\n",
       "      <td>1.102955</td>\n",
       "      <td>1.141477</td>\n",
       "      <td>0.760508</td>\n",
       "      <td>1.513170</td>\n",
       "      <td>1.282743</td>\n",
       "      <td>...</td>\n",
       "      <td>58.474637</td>\n",
       "      <td>28.989447</td>\n",
       "      <td>10.517957</td>\n",
       "      <td>65.236893</td>\n",
       "      <td>43.785196</td>\n",
       "      <td>63.742448</td>\n",
       "      <td>55.004201</td>\n",
       "      <td>29.898430</td>\n",
       "      <td>27.042034</td>\n",
       "      <td>27.259169</td>\n",
       "    </tr>\n",
       "    <tr>\n",
       "      <th>2</th>\n",
       "      <td>140018</td>\n",
       "      <td>1.231640</td>\n",
       "      <td>0.920481</td>\n",
       "      <td>0.790598</td>\n",
       "      <td>1.401998</td>\n",
       "      <td>1.110782</td>\n",
       "      <td>1.120131</td>\n",
       "      <td>0.745486</td>\n",
       "      <td>1.509870</td>\n",
       "      <td>1.271416</td>\n",
       "      <td>...</td>\n",
       "      <td>56.498925</td>\n",
       "      <td>24.139417</td>\n",
       "      <td>9.593009</td>\n",
       "      <td>64.757623</td>\n",
       "      <td>43.262276</td>\n",
       "      <td>63.281389</td>\n",
       "      <td>55.064633</td>\n",
       "      <td>21.198106</td>\n",
       "      <td>24.631410</td>\n",
       "      <td>26.511657</td>\n",
       "    </tr>\n",
       "    <tr>\n",
       "      <th>3</th>\n",
       "      <td>140019</td>\n",
       "      <td>1.256924</td>\n",
       "      <td>0.919224</td>\n",
       "      <td>0.705850</td>\n",
       "      <td>1.476768</td>\n",
       "      <td>1.146594</td>\n",
       "      <td>1.177854</td>\n",
       "      <td>0.788291</td>\n",
       "      <td>1.550072</td>\n",
       "      <td>1.288071</td>\n",
       "      <td>...</td>\n",
       "      <td>60.605922</td>\n",
       "      <td>32.818543</td>\n",
       "      <td>10.682783</td>\n",
       "      <td>64.521880</td>\n",
       "      <td>47.095292</td>\n",
       "      <td>63.119774</td>\n",
       "      <td>54.163523</td>\n",
       "      <td>36.932913</td>\n",
       "      <td>24.946419</td>\n",
       "      <td>27.789455</td>\n",
       "    </tr>\n",
       "    <tr>\n",
       "      <th>4</th>\n",
       "      <td>140020</td>\n",
       "      <td>1.195197</td>\n",
       "      <td>0.900752</td>\n",
       "      <td>0.792212</td>\n",
       "      <td>1.375182</td>\n",
       "      <td>1.131484</td>\n",
       "      <td>1.151429</td>\n",
       "      <td>0.761942</td>\n",
       "      <td>1.478946</td>\n",
       "      <td>1.227277</td>\n",
       "      <td>...</td>\n",
       "      <td>58.232696</td>\n",
       "      <td>26.547720</td>\n",
       "      <td>10.334075</td>\n",
       "      <td>66.579356</td>\n",
       "      <td>45.446894</td>\n",
       "      <td>65.487251</td>\n",
       "      <td>55.398140</td>\n",
       "      <td>29.941617</td>\n",
       "      <td>24.095442</td>\n",
       "      <td>26.448005</td>\n",
       "    </tr>\n",
       "    <tr>\n",
       "      <th>...</th>\n",
       "      <td>...</td>\n",
       "      <td>...</td>\n",
       "      <td>...</td>\n",
       "      <td>...</td>\n",
       "      <td>...</td>\n",
       "      <td>...</td>\n",
       "      <td>...</td>\n",
       "      <td>...</td>\n",
       "      <td>...</td>\n",
       "      <td>...</td>\n",
       "      <td>...</td>\n",
       "      <td>...</td>\n",
       "      <td>...</td>\n",
       "      <td>...</td>\n",
       "      <td>...</td>\n",
       "      <td>...</td>\n",
       "      <td>...</td>\n",
       "      <td>...</td>\n",
       "      <td>...</td>\n",
       "      <td>...</td>\n",
       "      <td>...</td>\n",
       "    </tr>\n",
       "    <tr>\n",
       "      <th>1073</th>\n",
       "      <td>143771</td>\n",
       "      <td>1.220739</td>\n",
       "      <td>0.889086</td>\n",
       "      <td>0.777694</td>\n",
       "      <td>1.385133</td>\n",
       "      <td>1.118757</td>\n",
       "      <td>1.137757</td>\n",
       "      <td>0.798562</td>\n",
       "      <td>1.487507</td>\n",
       "      <td>1.336559</td>\n",
       "      <td>...</td>\n",
       "      <td>55.971474</td>\n",
       "      <td>29.609547</td>\n",
       "      <td>11.610561</td>\n",
       "      <td>67.081279</td>\n",
       "      <td>43.174409</td>\n",
       "      <td>65.929989</td>\n",
       "      <td>54.945651</td>\n",
       "      <td>27.194088</td>\n",
       "      <td>26.884777</td>\n",
       "      <td>27.060903</td>\n",
       "    </tr>\n",
       "    <tr>\n",
       "      <th>1074</th>\n",
       "      <td>143772</td>\n",
       "      <td>1.229232</td>\n",
       "      <td>0.936953</td>\n",
       "      <td>0.791519</td>\n",
       "      <td>1.424546</td>\n",
       "      <td>1.136169</td>\n",
       "      <td>1.149582</td>\n",
       "      <td>0.748178</td>\n",
       "      <td>1.498560</td>\n",
       "      <td>1.246664</td>\n",
       "      <td>...</td>\n",
       "      <td>57.159285</td>\n",
       "      <td>26.145503</td>\n",
       "      <td>10.428154</td>\n",
       "      <td>65.382626</td>\n",
       "      <td>42.981064</td>\n",
       "      <td>64.239122</td>\n",
       "      <td>55.279869</td>\n",
       "      <td>24.029696</td>\n",
       "      <td>25.784772</td>\n",
       "      <td>27.499367</td>\n",
       "    </tr>\n",
       "    <tr>\n",
       "      <th>1075</th>\n",
       "      <td>143773</td>\n",
       "      <td>1.224029</td>\n",
       "      <td>0.929952</td>\n",
       "      <td>0.799422</td>\n",
       "      <td>1.413355</td>\n",
       "      <td>1.101050</td>\n",
       "      <td>1.145108</td>\n",
       "      <td>0.719819</td>\n",
       "      <td>1.462087</td>\n",
       "      <td>1.257362</td>\n",
       "      <td>...</td>\n",
       "      <td>56.564373</td>\n",
       "      <td>28.453503</td>\n",
       "      <td>12.170909</td>\n",
       "      <td>66.530021</td>\n",
       "      <td>40.501347</td>\n",
       "      <td>65.026592</td>\n",
       "      <td>54.933875</td>\n",
       "      <td>18.654140</td>\n",
       "      <td>27.931111</td>\n",
       "      <td>28.307838</td>\n",
       "    </tr>\n",
       "    <tr>\n",
       "      <th>1076</th>\n",
       "      <td>143774</td>\n",
       "      <td>1.249696</td>\n",
       "      <td>0.943250</td>\n",
       "      <td>0.830836</td>\n",
       "      <td>1.417172</td>\n",
       "      <td>1.085187</td>\n",
       "      <td>1.090428</td>\n",
       "      <td>0.747315</td>\n",
       "      <td>1.500895</td>\n",
       "      <td>1.302947</td>\n",
       "      <td>...</td>\n",
       "      <td>56.507516</td>\n",
       "      <td>26.367264</td>\n",
       "      <td>10.455140</td>\n",
       "      <td>65.775786</td>\n",
       "      <td>42.440195</td>\n",
       "      <td>64.427415</td>\n",
       "      <td>54.763247</td>\n",
       "      <td>23.437985</td>\n",
       "      <td>26.303192</td>\n",
       "      <td>25.722799</td>\n",
       "    </tr>\n",
       "    <tr>\n",
       "      <th>1077</th>\n",
       "      <td>143775</td>\n",
       "      <td>1.255566</td>\n",
       "      <td>0.976129</td>\n",
       "      <td>0.809726</td>\n",
       "      <td>1.445739</td>\n",
       "      <td>1.090970</td>\n",
       "      <td>1.119886</td>\n",
       "      <td>0.721119</td>\n",
       "      <td>1.493011</td>\n",
       "      <td>1.259050</td>\n",
       "      <td>...</td>\n",
       "      <td>55.495787</td>\n",
       "      <td>25.616678</td>\n",
       "      <td>9.773500</td>\n",
       "      <td>63.039461</td>\n",
       "      <td>43.816024</td>\n",
       "      <td>61.660115</td>\n",
       "      <td>54.208468</td>\n",
       "      <td>23.822106</td>\n",
       "      <td>27.728496</td>\n",
       "      <td>26.575883</td>\n",
       "    </tr>\n",
       "  </tbody>\n",
       "</table>\n",
       "<p>1078 rows × 97 columns</p>\n",
       "</div>"
      ],
      "text/plain": [
       "          ID         1         2         3         4         5         6  \\\n",
       "0     140012  1.243399  0.897036  0.759408  1.419205  1.148332  1.161105   \n",
       "1     140017  1.259036  0.912938  0.763635  1.438525  1.102955  1.141477   \n",
       "2     140018  1.231640  0.920481  0.790598  1.401998  1.110782  1.120131   \n",
       "3     140019  1.256924  0.919224  0.705850  1.476768  1.146594  1.177854   \n",
       "4     140020  1.195197  0.900752  0.792212  1.375182  1.131484  1.151429   \n",
       "...      ...       ...       ...       ...       ...       ...       ...   \n",
       "1073  143771  1.220739  0.889086  0.777694  1.385133  1.118757  1.137757   \n",
       "1074  143772  1.229232  0.936953  0.791519  1.424546  1.136169  1.149582   \n",
       "1075  143773  1.224029  0.929952  0.799422  1.413355  1.101050  1.145108   \n",
       "1076  143774  1.249696  0.943250  0.830836  1.417172  1.085187  1.090428   \n",
       "1077  143775  1.255566  0.976129  0.809726  1.445739  1.090970  1.119886   \n",
       "\n",
       "             7         8         9  ...         87         88         89  \\\n",
       "0     0.738964  1.516626  1.253521  ...  58.804049  27.414642   9.930506   \n",
       "1     0.760508  1.513170  1.282743  ...  58.474637  28.989447  10.517957   \n",
       "2     0.745486  1.509870  1.271416  ...  56.498925  24.139417   9.593009   \n",
       "3     0.788291  1.550072  1.288071  ...  60.605922  32.818543  10.682783   \n",
       "4     0.761942  1.478946  1.227277  ...  58.232696  26.547720  10.334075   \n",
       "...        ...       ...       ...  ...        ...        ...        ...   \n",
       "1073  0.798562  1.487507  1.336559  ...  55.971474  29.609547  11.610561   \n",
       "1074  0.748178  1.498560  1.246664  ...  57.159285  26.145503  10.428154   \n",
       "1075  0.719819  1.462087  1.257362  ...  56.564373  28.453503  12.170909   \n",
       "1076  0.747315  1.500895  1.302947  ...  56.507516  26.367264  10.455140   \n",
       "1077  0.721119  1.493011  1.259050  ...  55.495787  25.616678   9.773500   \n",
       "\n",
       "             90         91         92         93         94         95  \\\n",
       "0     65.297325  45.118798  64.132135  54.896465  29.862477  25.268476   \n",
       "1     65.236893  43.785196  63.742448  55.004201  29.898430  27.042034   \n",
       "2     64.757623  43.262276  63.281389  55.064633  21.198106  24.631410   \n",
       "3     64.521880  47.095292  63.119774  54.163523  36.932913  24.946419   \n",
       "4     66.579356  45.446894  65.487251  55.398140  29.941617  24.095442   \n",
       "...         ...        ...        ...        ...        ...        ...   \n",
       "1073  67.081279  43.174409  65.929989  54.945651  27.194088  26.884777   \n",
       "1074  65.382626  42.981064  64.239122  55.279869  24.029696  25.784772   \n",
       "1075  66.530021  40.501347  65.026592  54.933875  18.654140  27.931111   \n",
       "1076  65.775786  42.440195  64.427415  54.763247  23.437985  26.303192   \n",
       "1077  63.039461  43.816024  61.660115  54.208468  23.822106  27.728496   \n",
       "\n",
       "             96  \n",
       "0     26.370851  \n",
       "1     27.259169  \n",
       "2     26.511657  \n",
       "3     27.789455  \n",
       "4     26.448005  \n",
       "...         ...  \n",
       "1073  27.060903  \n",
       "1074  27.499367  \n",
       "1075  28.307838  \n",
       "1076  25.722799  \n",
       "1077  26.575883  \n",
       "\n",
       "[1078 rows x 97 columns]"
      ]
     },
     "execution_count": 17,
     "metadata": {},
     "output_type": "execute_result"
    }
   ],
   "source": [
    "# form the new csv of AM column\n",
    "AM_Unnormalized = []\n",
    "AM_OG = []\n",
    "\n",
    "np_face = np.array(face)\n",
    "for info in measurement_info:\n",
    "    new_AM_col = get_measurement(np_face, info)\n",
    "    AM_Unnormalized.append(new_AM_col)\n",
    "AM_Unnormalized_df = pd.DataFrame(AM_Unnormalized).T\n",
    "# Column start from 1\n",
    "AM_Unnormalized_df.columns += 1\n",
    "AM_OG = pd.DataFrame.copy(AM_Unnormalized_df)\n",
    "\n",
    "# Insert ID back\n",
    "AM_Unnormalized_df.insert(0, \"ID\", face[\"ID\"])\n",
    "AM_Unnormalized_df"
   ]
  },
  {
   "cell_type": "code",
   "execution_count": 22,
   "id": "ea697bd4-8db3-451e-a134-0cac095aba8d",
   "metadata": {},
   "outputs": [],
   "source": [
    "# Export csv\n",
    "AM_Unnormalized_df.to_csv(\"./AMs_unnormalized.csv\", index=False)"
   ]
  },
  {
   "cell_type": "markdown",
   "id": "8f383c63-ad6b-45f9-96bc-2e3a55e6599f",
   "metadata": {
    "jp-MarkdownHeadingCollapsed": true,
    "pycharm": {
     "name": "#%% md\n"
    },
    "tags": []
   },
   "source": [
    "### 4.1 Test"
   ]
  },
  {
   "cell_type": "code",
   "execution_count": 155,
   "id": "29b3a740-be13-4f95-8c3c-6a6610ce987a",
   "metadata": {
    "pycharm": {
     "name": "#%%\n"
    }
   },
   "outputs": [
    {
     "name": "stdout",
     "output_type": "stream",
     "text": [
      "measurement_info: ['dist', 10, 14]\n",
      "measurement_info: ['prop', 55, 63, 54, 64]\n",
      "measurement_info: ['angle', 51, 52, 53]\n"
     ]
    }
   ],
   "source": [
    "print(\"measurement_info:\", measurement_info[0])\n",
    "print(\"measurement_info:\", measurement_info[67])\n",
    "print(\"measurement_info:\", measurement_info[90])"
   ]
  },
  {
   "cell_type": "code",
   "execution_count": 156,
   "id": "bbad18ac-4cd1-462a-8407-76c69b2fb0bb",
   "metadata": {
    "pycharm": {
     "name": "#%%\n"
    },
    "tags": []
   },
   "outputs": [
    {
     "data": {
      "text/plain": [
       "array([1.24339906, 1.25903576, 1.23164034, ..., 1.22402939, 1.24969587,\n",
       "       1.25556593])"
      ]
     },
     "execution_count": 156,
     "metadata": {},
     "output_type": "execute_result"
    }
   ],
   "source": [
    "get_measurement(face, measurement_info[0])"
   ]
  },
  {
   "cell_type": "markdown",
   "id": "4ff41897-2b4d-4d5f-9efa-4f012b28f663",
   "metadata": {
    "pycharm": {
     "name": "#%% md\n"
    }
   },
   "source": [
    "## 5. Normalization"
   ]
  },
  {
   "cell_type": "code",
   "execution_count": 19,
   "id": "07d06b02-e504-4d3d-ab7d-d53ad5d6201c",
   "metadata": {
    "pycharm": {
     "name": "#%%\n"
    }
   },
   "outputs": [
    {
     "data": {
      "text/html": [
       "<div>\n",
       "<style scoped>\n",
       "    .dataframe tbody tr th:only-of-type {\n",
       "        vertical-align: middle;\n",
       "    }\n",
       "\n",
       "    .dataframe tbody tr th {\n",
       "        vertical-align: top;\n",
       "    }\n",
       "\n",
       "    .dataframe thead th {\n",
       "        text-align: right;\n",
       "    }\n",
       "</style>\n",
       "<table border=\"1\" class=\"dataframe\">\n",
       "  <thead>\n",
       "    <tr style=\"text-align: right;\">\n",
       "      <th></th>\n",
       "      <th>ID</th>\n",
       "      <th>1</th>\n",
       "      <th>2</th>\n",
       "      <th>3</th>\n",
       "      <th>4</th>\n",
       "      <th>5</th>\n",
       "      <th>6</th>\n",
       "      <th>7</th>\n",
       "      <th>8</th>\n",
       "      <th>9</th>\n",
       "      <th>...</th>\n",
       "      <th>87</th>\n",
       "      <th>88</th>\n",
       "      <th>89</th>\n",
       "      <th>90</th>\n",
       "      <th>91</th>\n",
       "      <th>92</th>\n",
       "      <th>93</th>\n",
       "      <th>94</th>\n",
       "      <th>95</th>\n",
       "      <th>96</th>\n",
       "    </tr>\n",
       "  </thead>\n",
       "  <tbody>\n",
       "    <tr>\n",
       "      <th>0</th>\n",
       "      <td>140012</td>\n",
       "      <td>0.979992</td>\n",
       "      <td>-1.466816</td>\n",
       "      <td>-0.831445</td>\n",
       "      <td>0.163257</td>\n",
       "      <td>1.186042</td>\n",
       "      <td>0.748534</td>\n",
       "      <td>-0.812294</td>\n",
       "      <td>0.285578</td>\n",
       "      <td>-0.946772</td>\n",
       "      <td>...</td>\n",
       "      <td>1.184660</td>\n",
       "      <td>-0.355536</td>\n",
       "      <td>-1.357817</td>\n",
       "      <td>-0.429220</td>\n",
       "      <td>1.006778</td>\n",
       "      <td>-0.293894</td>\n",
       "      <td>-0.183394</td>\n",
       "      <td>0.837010</td>\n",
       "      <td>-0.603628</td>\n",
       "      <td>-0.983879</td>\n",
       "    </tr>\n",
       "    <tr>\n",
       "      <th>1</th>\n",
       "      <td>140017</td>\n",
       "      <td>1.664156</td>\n",
       "      <td>-0.801666</td>\n",
       "      <td>-0.701065</td>\n",
       "      <td>0.869178</td>\n",
       "      <td>-0.793944</td>\n",
       "      <td>-0.085106</td>\n",
       "      <td>0.252811</td>\n",
       "      <td>0.163068</td>\n",
       "      <td>0.242396</td>\n",
       "      <td>...</td>\n",
       "      <td>0.923665</td>\n",
       "      <td>0.231939</td>\n",
       "      <td>-0.541167</td>\n",
       "      <td>-0.480632</td>\n",
       "      <td>-0.040503</td>\n",
       "      <td>-0.584514</td>\n",
       "      <td>-0.016203</td>\n",
       "      <td>0.846367</td>\n",
       "      <td>0.561269</td>\n",
       "      <td>0.066214</td>\n",
       "    </tr>\n",
       "    <tr>\n",
       "      <th>2</th>\n",
       "      <td>140018</td>\n",
       "      <td>0.465505</td>\n",
       "      <td>-0.486156</td>\n",
       "      <td>0.130590</td>\n",
       "      <td>-0.465439</td>\n",
       "      <td>-0.452386</td>\n",
       "      <td>-0.991666</td>\n",
       "      <td>-0.489832</td>\n",
       "      <td>0.046085</td>\n",
       "      <td>-0.218536</td>\n",
       "      <td>...</td>\n",
       "      <td>-0.641710</td>\n",
       "      <td>-1.577346</td>\n",
       "      <td>-1.826992</td>\n",
       "      <td>-0.888363</td>\n",
       "      <td>-0.451153</td>\n",
       "      <td>-0.928363</td>\n",
       "      <td>0.077580</td>\n",
       "      <td>-1.417918</td>\n",
       "      <td>-1.022061</td>\n",
       "      <td>-0.817431</td>\n",
       "    </tr>\n",
       "    <tr>\n",
       "      <th>3</th>\n",
       "      <td>140019</td>\n",
       "      <td>1.571772</td>\n",
       "      <td>-0.538745</td>\n",
       "      <td>-2.483406</td>\n",
       "      <td>2.266499</td>\n",
       "      <td>1.110213</td>\n",
       "      <td>1.459845</td>\n",
       "      <td>1.626359</td>\n",
       "      <td>1.471079</td>\n",
       "      <td>0.459243</td>\n",
       "      <td>...</td>\n",
       "      <td>2.612300</td>\n",
       "      <td>1.660369</td>\n",
       "      <td>-0.312034</td>\n",
       "      <td>-1.088919</td>\n",
       "      <td>2.558924</td>\n",
       "      <td>-1.048892</td>\n",
       "      <td>-1.320823</td>\n",
       "      <td>2.677112</td>\n",
       "      <td>-0.815159</td>\n",
       "      <td>0.693073</td>\n",
       "    </tr>\n",
       "    <tr>\n",
       "      <th>4</th>\n",
       "      <td>140020</td>\n",
       "      <td>-1.129009</td>\n",
       "      <td>-1.311359</td>\n",
       "      <td>0.180367</td>\n",
       "      <td>-1.445244</td>\n",
       "      <td>0.450922</td>\n",
       "      <td>0.337577</td>\n",
       "      <td>0.323690</td>\n",
       "      <td>-1.050004</td>\n",
       "      <td>-2.014781</td>\n",
       "      <td>...</td>\n",
       "      <td>0.731973</td>\n",
       "      <td>-0.678938</td>\n",
       "      <td>-0.796792</td>\n",
       "      <td>0.661450</td>\n",
       "      <td>1.264433</td>\n",
       "      <td>0.716723</td>\n",
       "      <td>0.595138</td>\n",
       "      <td>0.857607</td>\n",
       "      <td>-1.374092</td>\n",
       "      <td>-0.892674</td>\n",
       "    </tr>\n",
       "    <tr>\n",
       "      <th>...</th>\n",
       "      <td>...</td>\n",
       "      <td>...</td>\n",
       "      <td>...</td>\n",
       "      <td>...</td>\n",
       "      <td>...</td>\n",
       "      <td>...</td>\n",
       "      <td>...</td>\n",
       "      <td>...</td>\n",
       "      <td>...</td>\n",
       "      <td>...</td>\n",
       "      <td>...</td>\n",
       "      <td>...</td>\n",
       "      <td>...</td>\n",
       "      <td>...</td>\n",
       "      <td>...</td>\n",
       "      <td>...</td>\n",
       "      <td>...</td>\n",
       "      <td>...</td>\n",
       "      <td>...</td>\n",
       "      <td>...</td>\n",
       "      <td>...</td>\n",
       "    </tr>\n",
       "    <tr>\n",
       "      <th>1073</th>\n",
       "      <td>143771</td>\n",
       "      <td>-0.011469</td>\n",
       "      <td>-1.799327</td>\n",
       "      <td>-0.267434</td>\n",
       "      <td>-1.081637</td>\n",
       "      <td>-0.104433</td>\n",
       "      <td>-0.243079</td>\n",
       "      <td>2.134127</td>\n",
       "      <td>-0.746575</td>\n",
       "      <td>2.432453</td>\n",
       "      <td>...</td>\n",
       "      <td>-1.059613</td>\n",
       "      <td>0.463265</td>\n",
       "      <td>0.977725</td>\n",
       "      <td>1.088453</td>\n",
       "      <td>-0.520156</td>\n",
       "      <td>1.046909</td>\n",
       "      <td>-0.107065</td>\n",
       "      <td>0.142554</td>\n",
       "      <td>0.457980</td>\n",
       "      <td>-0.168159</td>\n",
       "    </tr>\n",
       "    <tr>\n",
       "      <th>1074</th>\n",
       "      <td>143772</td>\n",
       "      <td>0.360120</td>\n",
       "      <td>0.202809</td>\n",
       "      <td>0.158976</td>\n",
       "      <td>0.358438</td>\n",
       "      <td>0.655343</td>\n",
       "      <td>0.259119</td>\n",
       "      <td>-0.356755</td>\n",
       "      <td>-0.354786</td>\n",
       "      <td>-1.225821</td>\n",
       "      <td>...</td>\n",
       "      <td>-0.118500</td>\n",
       "      <td>-0.828984</td>\n",
       "      <td>-0.666008</td>\n",
       "      <td>-0.356651</td>\n",
       "      <td>-0.671990</td>\n",
       "      <td>-0.214105</td>\n",
       "      <td>0.411597</td>\n",
       "      <td>-0.680988</td>\n",
       "      <td>-0.264517</td>\n",
       "      <td>0.350156</td>\n",
       "    </tr>\n",
       "    <tr>\n",
       "      <th>1075</th>\n",
       "      <td>143773</td>\n",
       "      <td>0.132498</td>\n",
       "      <td>-0.090021</td>\n",
       "      <td>0.402741</td>\n",
       "      <td>-0.050488</td>\n",
       "      <td>-0.877057</td>\n",
       "      <td>0.069140</td>\n",
       "      <td>-1.758782</td>\n",
       "      <td>-1.647611</td>\n",
       "      <td>-0.790459</td>\n",
       "      <td>...</td>\n",
       "      <td>-0.589854</td>\n",
       "      <td>0.032007</td>\n",
       "      <td>1.756697</td>\n",
       "      <td>0.619479</td>\n",
       "      <td>-2.619318</td>\n",
       "      <td>0.373174</td>\n",
       "      <td>-0.125339</td>\n",
       "      <td>-2.079993</td>\n",
       "      <td>1.145226</td>\n",
       "      <td>1.305862</td>\n",
       "    </tr>\n",
       "    <tr>\n",
       "      <th>1076</th>\n",
       "      <td>143774</td>\n",
       "      <td>1.255501</td>\n",
       "      <td>0.466187</td>\n",
       "      <td>1.371687</td>\n",
       "      <td>0.088982</td>\n",
       "      <td>-1.569201</td>\n",
       "      <td>-2.253172</td>\n",
       "      <td>-0.399454</td>\n",
       "      <td>-0.272028</td>\n",
       "      <td>1.064594</td>\n",
       "      <td>...</td>\n",
       "      <td>-0.634902</td>\n",
       "      <td>-0.746256</td>\n",
       "      <td>-0.628493</td>\n",
       "      <td>-0.022176</td>\n",
       "      <td>-1.096736</td>\n",
       "      <td>-0.073680</td>\n",
       "      <td>-0.390131</td>\n",
       "      <td>-0.834983</td>\n",
       "      <td>0.075987</td>\n",
       "      <td>-1.749951</td>\n",
       "    </tr>\n",
       "    <tr>\n",
       "      <th>1077</th>\n",
       "      <td>143775</td>\n",
       "      <td>1.512338</td>\n",
       "      <td>1.841444</td>\n",
       "      <td>0.720577</td>\n",
       "      <td>1.132770</td>\n",
       "      <td>-1.316902</td>\n",
       "      <td>-1.002074</td>\n",
       "      <td>-1.694526</td>\n",
       "      <td>-0.551474</td>\n",
       "      <td>-0.721777</td>\n",
       "      <td>...</td>\n",
       "      <td>-1.436504</td>\n",
       "      <td>-1.026260</td>\n",
       "      <td>-1.576080</td>\n",
       "      <td>-2.350065</td>\n",
       "      <td>-0.016294</td>\n",
       "      <td>-2.137475</td>\n",
       "      <td>-1.251074</td>\n",
       "      <td>-0.735014</td>\n",
       "      <td>1.012146</td>\n",
       "      <td>-0.741508</td>\n",
       "    </tr>\n",
       "  </tbody>\n",
       "</table>\n",
       "<p>1078 rows × 97 columns</p>\n",
       "</div>"
      ],
      "text/plain": [
       "          ID         1         2         3         4         5         6  \\\n",
       "0     140012  0.979992 -1.466816 -0.831445  0.163257  1.186042  0.748534   \n",
       "1     140017  1.664156 -0.801666 -0.701065  0.869178 -0.793944 -0.085106   \n",
       "2     140018  0.465505 -0.486156  0.130590 -0.465439 -0.452386 -0.991666   \n",
       "3     140019  1.571772 -0.538745 -2.483406  2.266499  1.110213  1.459845   \n",
       "4     140020 -1.129009 -1.311359  0.180367 -1.445244  0.450922  0.337577   \n",
       "...      ...       ...       ...       ...       ...       ...       ...   \n",
       "1073  143771 -0.011469 -1.799327 -0.267434 -1.081637 -0.104433 -0.243079   \n",
       "1074  143772  0.360120  0.202809  0.158976  0.358438  0.655343  0.259119   \n",
       "1075  143773  0.132498 -0.090021  0.402741 -0.050488 -0.877057  0.069140   \n",
       "1076  143774  1.255501  0.466187  1.371687  0.088982 -1.569201 -2.253172   \n",
       "1077  143775  1.512338  1.841444  0.720577  1.132770 -1.316902 -1.002074   \n",
       "\n",
       "             7         8         9  ...        87        88        89  \\\n",
       "0    -0.812294  0.285578 -0.946772  ...  1.184660 -0.355536 -1.357817   \n",
       "1     0.252811  0.163068  0.242396  ...  0.923665  0.231939 -0.541167   \n",
       "2    -0.489832  0.046085 -0.218536  ... -0.641710 -1.577346 -1.826992   \n",
       "3     1.626359  1.471079  0.459243  ...  2.612300  1.660369 -0.312034   \n",
       "4     0.323690 -1.050004 -2.014781  ...  0.731973 -0.678938 -0.796792   \n",
       "...        ...       ...       ...  ...       ...       ...       ...   \n",
       "1073  2.134127 -0.746575  2.432453  ... -1.059613  0.463265  0.977725   \n",
       "1074 -0.356755 -0.354786 -1.225821  ... -0.118500 -0.828984 -0.666008   \n",
       "1075 -1.758782 -1.647611 -0.790459  ... -0.589854  0.032007  1.756697   \n",
       "1076 -0.399454 -0.272028  1.064594  ... -0.634902 -0.746256 -0.628493   \n",
       "1077 -1.694526 -0.551474 -0.721777  ... -1.436504 -1.026260 -1.576080   \n",
       "\n",
       "            90        91        92        93        94        95        96  \n",
       "0    -0.429220  1.006778 -0.293894 -0.183394  0.837010 -0.603628 -0.983879  \n",
       "1    -0.480632 -0.040503 -0.584514 -0.016203  0.846367  0.561269  0.066214  \n",
       "2    -0.888363 -0.451153 -0.928363  0.077580 -1.417918 -1.022061 -0.817431  \n",
       "3    -1.088919  2.558924 -1.048892 -1.320823  2.677112 -0.815159  0.693073  \n",
       "4     0.661450  1.264433  0.716723  0.595138  0.857607 -1.374092 -0.892674  \n",
       "...        ...       ...       ...       ...       ...       ...       ...  \n",
       "1073  1.088453 -0.520156  1.046909 -0.107065  0.142554  0.457980 -0.168159  \n",
       "1074 -0.356651 -0.671990 -0.214105  0.411597 -0.680988 -0.264517  0.350156  \n",
       "1075  0.619479 -2.619318  0.373174 -0.125339 -2.079993  1.145226  1.305862  \n",
       "1076 -0.022176 -1.096736 -0.073680 -0.390131 -0.834983  0.075987 -1.749951  \n",
       "1077 -2.350065 -0.016294 -2.137475 -1.251074 -0.735014  1.012146 -0.741508  \n",
       "\n",
       "[1078 rows x 97 columns]"
      ]
     },
     "execution_count": 19,
     "metadata": {},
     "output_type": "execute_result"
    }
   ],
   "source": [
    "AM_mean = AM_OG.mean()\n",
    "AM_std  = AM_OG.std()\n",
    "# Standard \n",
    "AM_df = (AM_OG - AM_mean) / AM_std\n",
    "# add ID back\n",
    "face = pd.read_csv('./penstate_data/download/qls.csv')\n",
    "AM_df.insert(0, \"ID\", face[\"ID\"])\n",
    "AM_df"
   ]
  },
  {
   "cell_type": "code",
   "execution_count": 20,
   "id": "e9b74556-6f3e-448f-a548-4f4977b23b8f",
   "metadata": {},
   "outputs": [],
   "source": [
    "# Export csv\n",
    "AM_df.to_csv(\"./AMs_final.csv\", index=False)"
   ]
  },
  {
   "cell_type": "markdown",
   "id": "54d7671e-64f6-4f73-bc4d-98b1bb3db09c",
   "metadata": {
    "jp-MarkdownHeadingCollapsed": true,
    "tags": []
   },
   "source": [
    "###### 5.1 Test"
   ]
  },
  {
   "cell_type": "code",
   "execution_count": 109,
   "id": "bad56ab6-9dc4-4b33-8a25-e13aff4cb15c",
   "metadata": {
    "pycharm": {
     "name": "#%%\n"
    }
   },
   "outputs": [
    {
     "data": {
      "text/plain": [
       "0     0.635724\n",
       "1     0.832036\n",
       "2     0.462624\n",
       "3     1.005137\n",
       "4     1.059509\n",
       "        ...   \n",
       "91    0.875191\n",
       "92    0.183650\n",
       "93    0.602348\n",
       "94    0.986343\n",
       "95    0.153147\n",
       "Length: 96, dtype: float64"
      ]
     },
     "execution_count": 109,
     "metadata": {},
     "output_type": "execute_result"
    }
   ],
   "source": [
    "AM_Unnormalized_df.mean()"
   ]
  },
  {
   "cell_type": "code",
   "execution_count": null,
   "id": "e586d9f8-da8e-4837-9d13-e8b67a8dc664",
   "metadata": {
    "pycharm": {
     "name": "#%%\n"
    }
   },
   "outputs": [],
   "source": []
  }
 ],
 "metadata": {
  "kernelspec": {
   "display_name": "pytorch_env1",
   "language": "python",
   "name": "pytorch_env1"
  },
  "language_info": {
   "codemirror_mode": {
    "name": "ipython",
    "version": 3
   },
   "file_extension": ".py",
   "mimetype": "text/x-python",
   "name": "python",
   "nbconvert_exporter": "python",
   "pygments_lexer": "ipython3",
   "version": "3.8.12"
  }
 },
 "nbformat": 4,
 "nbformat_minor": 5
}
